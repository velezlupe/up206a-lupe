{
 "cells": [
  {
   "cell_type": "markdown",
   "id": "03eebff6-5198-4b93-9d75-2628d1fc30f9",
   "metadata": {},
   "source": [
    "# Toxic Facilities in California, Sea Level Rising and High Risk Counties.\n",
    "\n",
    "The following data categorizes the type of toxic facilities in California, \n",
    "the number of facilities in low-lying counties by category and  \n",
    "the number that will be exposed to Sea Level rising in the years 2050 and 2100 \n",
    "This data is significant in representing the number of each toxic facility located in high risk areas and then \n",
    "how many of those are predicted to be exposed as an effect of sea livning rising in the years, 2050 and 2100 \n",
    "This data would be significant, spatially, by demonstrating the density of each facilitiy in California \n",
    " and low-lying counties(high risk areas. "
   ]
  },
  {
   "cell_type": "code",
   "execution_count": 5,
   "id": "9f3c00d6-3250-4c79-817c-b978922cb234",
   "metadata": {},
   "outputs": [],
   "source": [
    "import geopandas as gdp"
   ]
  },
  {
   "cell_type": "code",
   "execution_count": null,
   "id": "70ac7297-1e81-4d1a-8839-21c08bedfb2f",
   "metadata": {},
   "outputs": [],
   "source": [
    "#We start by importing geopandas, a geospatial library to visualize or data. "
   ]
  },
  {
   "cell_type": "code",
   "execution_count": 55,
   "id": "acc7ef7a-ad1f-46a2-835d-8d7b652b7f8d",
   "metadata": {},
   "outputs": [],
   "source": [
    "file = gpd.read_file(\"Exposed Facilities - California.csv\")"
   ]
  },
  {
   "cell_type": "code",
   "execution_count": 60,
   "id": "d86fce93-22b2-485c-8c85-e66328b4bb47",
   "metadata": {},
   "outputs": [],
   "source": [
    "#I named my data \"file,\" and \"gdp.read_file\" allowing geopandas to read my spatial data "
   ]
  },
  {
   "cell_type": "code",
   "execution_count": 8,
   "id": "ad8aa7d0-808e-4d97-a06e-3b6a3078db81",
   "metadata": {},
   "outputs": [
    {
     "data": {
      "text/plain": [
       "geopandas.geodataframe.GeoDataFrame"
      ]
     },
     "execution_count": 8,
     "metadata": {},
     "output_type": "execute_result"
    }
   ],
   "source": [
    "type(file)"
   ]
  },
  {
   "cell_type": "code",
   "execution_count": 61,
   "id": "918e51fb-f9ac-4e3e-9940-06e50654e601",
   "metadata": {},
   "outputs": [],
   "source": [
    "#type(file) will give us the data type "
   ]
  },
  {
   "cell_type": "code",
   "execution_count": 57,
   "id": "5fc076e1-9d2c-4122-829e-c55826d38d2b",
   "metadata": {},
   "outputs": [
    {
     "data": {
      "text/html": [
       "<div>\n",
       "<style scoped>\n",
       "    .dataframe tbody tr th:only-of-type {\n",
       "        vertical-align: middle;\n",
       "    }\n",
       "\n",
       "    .dataframe tbody tr th {\n",
       "        vertical-align: top;\n",
       "    }\n",
       "\n",
       "    .dataframe thead th {\n",
       "        text-align: right;\n",
       "    }\n",
       "</style>\n",
       "<table border=\"1\" class=\"dataframe\">\n",
       "  <thead>\n",
       "    <tr style=\"text-align: right;\">\n",
       "      <th></th>\n",
       "      <th>Category</th>\n",
       "      <th># Facilities in Low-lying Counties</th>\n",
       "      <th>Exposed, 2050</th>\n",
       "      <th>Exposed, 2100</th>\n",
       "      <th>geometry</th>\n",
       "    </tr>\n",
       "  </thead>\n",
       "  <tbody>\n",
       "    <tr>\n",
       "      <th>0</th>\n",
       "      <td>Power Plants</td>\n",
       "      <td>79</td>\n",
       "      <td>4</td>\n",
       "      <td>9</td>\n",
       "      <td>None</td>\n",
       "    </tr>\n",
       "    <tr>\n",
       "      <th>1</th>\n",
       "      <td>Animal Operations</td>\n",
       "      <td>42</td>\n",
       "      <td>1</td>\n",
       "      <td>1</td>\n",
       "      <td>None</td>\n",
       "    </tr>\n",
       "    <tr>\n",
       "      <th>2</th>\n",
       "      <td>Sewage Treatment</td>\n",
       "      <td>397</td>\n",
       "      <td>38</td>\n",
       "      <td>73</td>\n",
       "      <td>None</td>\n",
       "    </tr>\n",
       "    <tr>\n",
       "      <th>3</th>\n",
       "      <td>Hazardous Waste Treatment &amp; Disposal</td>\n",
       "      <td>110</td>\n",
       "      <td>6</td>\n",
       "      <td>16</td>\n",
       "      <td>None</td>\n",
       "    </tr>\n",
       "    <tr>\n",
       "      <th>4</th>\n",
       "      <td>Industrial Facilities (TRI)</td>\n",
       "      <td>3668</td>\n",
       "      <td>63</td>\n",
       "      <td>187</td>\n",
       "      <td>None</td>\n",
       "    </tr>\n",
       "  </tbody>\n",
       "</table>\n",
       "</div>"
      ],
      "text/plain": [
       "                               Category # Facilities in Low-lying Counties  \\\n",
       "0                          Power Plants                                 79   \n",
       "1                     Animal Operations                                 42   \n",
       "2                      Sewage Treatment                                397   \n",
       "3  Hazardous Waste Treatment & Disposal                                110   \n",
       "4           Industrial Facilities (TRI)                               3668   \n",
       "\n",
       "  Exposed, 2050 Exposed, 2100 geometry  \n",
       "0             4             9     None  \n",
       "1             1             1     None  \n",
       "2            38            73     None  \n",
       "3             6            16     None  \n",
       "4            63           187     None  "
      ]
     },
     "execution_count": 57,
     "metadata": {},
     "output_type": "execute_result"
    }
   ],
   "source": [
    "file.head()"
   ]
  },
  {
   "cell_type": "code",
   "execution_count": null,
   "id": "32b3e15d-d538-4bb0-8bc3-516126408c18",
   "metadata": {},
   "outputs": [],
   "source": [
    "#file.head() will allow us to see the first rows or however many you choose to see ex. file.head(5) "
   ]
  },
  {
   "cell_type": "code",
   "execution_count": null,
   "id": "c8a33e94-6935-4b8b-acd4-32637af1d694",
   "metadata": {},
   "outputs": [],
   "source": []
  },
  {
   "cell_type": "code",
   "execution_count": 12,
   "id": "a823c492-2c63-4e63-9ca2-3ae017ae5cd6",
   "metadata": {},
   "outputs": [
    {
     "data": {
      "text/plain": [
       "(11, 5)"
      ]
     },
     "execution_count": 12,
     "metadata": {},
     "output_type": "execute_result"
    }
   ],
   "source": [
    "file.shape()"
   ]
  },
  {
   "cell_type": "code",
   "execution_count": null,
   "id": "d38cce34-db4f-4359-9847-3effbb60f7fa",
   "metadata": {},
   "outputs": [],
   "source": [
    "#file.shape() allows us to see the the number of rows and columns (rows, columns) "
   ]
  },
  {
   "cell_type": "code",
   "execution_count": null,
   "id": "ebbb9842-b179-4a5a-815d-d719070da249",
   "metadata": {},
   "outputs": [],
   "source": []
  },
  {
   "cell_type": "code",
   "execution_count": 16,
   "id": "e0c9f49b-066d-46e2-b045-ca1a72f80600",
   "metadata": {},
   "outputs": [
    {
     "data": {
      "text/plain": [
       "['Category',\n",
       " '# Facilities in Low-lying Counties',\n",
       " 'Exposed, 2050',\n",
       " 'Exposed, 2100',\n",
       " 'geometry']"
      ]
     },
     "execution_count": 16,
     "metadata": {},
     "output_type": "execute_result"
    }
   ],
   "source": [
    "file.columns.to_list()"
   ]
  },
  {
   "cell_type": "code",
   "execution_count": null,
   "id": "c5027ae0-7aad-4d81-aeb0-29bde329c025",
   "metadata": {},
   "outputs": [],
   "source": [
    "#file.columns.to_list() givs us a the names of the columns in list form "
   ]
  },
  {
   "cell_type": "code",
   "execution_count": 26,
   "id": "6668b70b-5881-4e0e-aa70-ce1d6f5a3ac1",
   "metadata": {},
   "outputs": [
    {
     "data": {
      "text/plain": [
       "10                                   Total\n",
       "0                             Power Plants\n",
       "1                        Animal Operations\n",
       "2                         Sewage Treatment\n",
       "4              Industrial Facilities (TRI)\n",
       "7                               Refineries\n",
       "8                        Ports & Terminals\n",
       "9                          Oil & Gas Wells\n",
       "6                            Cleanup Sites\n",
       "3     Hazardous Waste Treatment & Disposal\n",
       "5                 Landfills & Incinerators\n",
       "Name: Category, dtype: object"
      ]
     },
     "execution_count": 26,
     "metadata": {},
     "output_type": "execute_result"
    }
   ],
   "source": [
    "file['Category'].sample(11)"
   ]
  },
  {
   "cell_type": "code",
   "execution_count": null,
   "id": "63a408fd-8cdd-4d8c-ab8b-54a3876eeb16",
   "metadata": {},
   "outputs": [],
   "source": [
    "#file['Category'].sample allows us to get a sample size of a particular/single column, \n",
    "#in this example we are looking at the \"category,\" column "
   ]
  },
  {
   "cell_type": "code",
   "execution_count": 29,
   "id": "53e2258a-6a86-4298-b520-b8d61363a99e",
   "metadata": {},
   "outputs": [
    {
     "data": {
      "text/html": [
       "<div>\n",
       "<style scoped>\n",
       "    .dataframe tbody tr th:only-of-type {\n",
       "        vertical-align: middle;\n",
       "    }\n",
       "\n",
       "    .dataframe tbody tr th {\n",
       "        vertical-align: top;\n",
       "    }\n",
       "\n",
       "    .dataframe thead th {\n",
       "        text-align: right;\n",
       "    }\n",
       "</style>\n",
       "<table border=\"1\" class=\"dataframe\">\n",
       "  <thead>\n",
       "    <tr style=\"text-align: right;\">\n",
       "      <th></th>\n",
       "      <th>Category</th>\n",
       "      <th># Facilities in Low-lying Counties</th>\n",
       "      <th>Exposed, 2050</th>\n",
       "      <th>Exposed, 2100</th>\n",
       "      <th>geometry</th>\n",
       "    </tr>\n",
       "  </thead>\n",
       "  <tbody>\n",
       "    <tr>\n",
       "      <th>10</th>\n",
       "      <td>Total</td>\n",
       "      <td>10,544</td>\n",
       "      <td>135</td>\n",
       "      <td>440</td>\n",
       "      <td>None</td>\n",
       "    </tr>\n",
       "  </tbody>\n",
       "</table>\n",
       "</div>"
      ],
      "text/plain": [
       "   Category # Facilities in Low-lying Counties Exposed, 2050 Exposed, 2100  \\\n",
       "10    Total                             10,544           135           440   \n",
       "\n",
       "   geometry  \n",
       "10     None  "
      ]
     },
     "execution_count": 29,
     "metadata": {},
     "output_type": "execute_result"
    }
   ],
   "source": [
    "file.tail(1)"
   ]
  },
  {
   "cell_type": "code",
   "execution_count": null,
   "id": "ba320374-3c61-48b7-9e44-322a30f5f122",
   "metadata": {},
   "outputs": [],
   "source": [
    "#file.tail() allows us to see the last rows of the data, or however many ones you want to see. \n",
    "#ex.file.tail(1) shows us just the last row of the data "
   ]
  },
  {
   "cell_type": "code",
   "execution_count": null,
   "id": "c56225ed-b5e8-44aa-a845-40c43df31d69",
   "metadata": {},
   "outputs": [],
   "source": []
  },
  {
   "cell_type": "code",
   "execution_count": null,
   "id": "c055879b-4652-472c-b75c-54e493633b3c",
   "metadata": {},
   "outputs": [],
   "source": []
  },
  {
   "cell_type": "code",
   "execution_count": 31,
   "id": "d4a6b29f-7963-4c63-a017-5841e0128245",
   "metadata": {},
   "outputs": [
    {
     "data": {
      "text/plain": [
       "Category                                object\n",
       "# Facilities in Low-lying Counties      object\n",
       "Exposed, 2050                           object\n",
       "Exposed, 2100                           object\n",
       "geometry                              geometry\n",
       "dtype: object"
      ]
     },
     "execution_count": 31,
     "metadata": {},
     "output_type": "execute_result"
    }
   ],
   "source": [
    "file.dtypes"
   ]
  },
  {
   "cell_type": "code",
   "execution_count": null,
   "id": "ac83b131-9abc-4fb0-b17b-dbb5a66124d3",
   "metadata": {},
   "outputs": [],
   "source": [
    "#file.dtypes gives us a look at the data types for each column"
   ]
  },
  {
   "cell_type": "code",
   "execution_count": 62,
   "id": "75c9c353-e7c4-4150-ab7e-7f333ab3b4e6",
   "metadata": {},
   "outputs": [
    {
     "data": {
      "text/plain": [
       "<bound method DataFrame.info of                                 Category # Facilities in Low-lying Counties  \\\n",
       "0                           Power Plants                                 79   \n",
       "1                      Animal Operations                                 42   \n",
       "2                       Sewage Treatment                                397   \n",
       "3   Hazardous Waste Treatment & Disposal                                110   \n",
       "4            Industrial Facilities (TRI)                               3668   \n",
       "5               Landfills & Incinerators                                293   \n",
       "6                          Cleanup Sites                                 68   \n",
       "7                             Refineries                                 13   \n",
       "8                      Ports & Terminals                                 66   \n",
       "9                        Oil & Gas Wells                               5808   \n",
       "10                                 Total                             10,544   \n",
       "\n",
       "   Exposed, 2050 Exposed, 2100 geometry  \n",
       "0              4             9     None  \n",
       "1              1             1     None  \n",
       "2             38            73     None  \n",
       "3              6            16     None  \n",
       "4             63           187     None  \n",
       "5             10            16     None  \n",
       "6              3             7     None  \n",
       "7              1             3     None  \n",
       "8              5            13     None  \n",
       "9              4           115     None  \n",
       "10           135           440     None  >"
      ]
     },
     "execution_count": 62,
     "metadata": {},
     "output_type": "execute_result"
    }
   ],
   "source": [
    "file.info"
   ]
  },
  {
   "cell_type": "code",
   "execution_count": null,
   "id": "69d07778-69b0-4a76-9d7f-478aa91fce29",
   "metadata": {},
   "outputs": [],
   "source": [
    "#file.info gives us more information and gives us pandas datatypes "
   ]
  },
  {
   "cell_type": "code",
   "execution_count": 33,
   "id": "35d9e826-4595-4691-af56-2bd61d4f0a32",
   "metadata": {},
   "outputs": [
    {
     "data": {
      "text/plain": [
       "Power Plants                            1\n",
       "Animal Operations                       1\n",
       "Sewage Treatment                        1\n",
       "Hazardous Waste Treatment & Disposal    1\n",
       "Industrial Facilities (TRI)             1\n",
       "Landfills & Incinerators                1\n",
       "Cleanup Sites                           1\n",
       "Refineries                              1\n",
       "Ports & Terminals                       1\n",
       "Oil & Gas Wells                         1\n",
       "Total                                   1\n",
       "Name: Category, dtype: int64"
      ]
     },
     "execution_count": 33,
     "metadata": {},
     "output_type": "execute_result"
    }
   ],
   "source": [
    "file['Category'].value_counts()"
   ]
  },
  {
   "cell_type": "code",
   "execution_count": null,
   "id": "f970b019-ff02-4bf9-9222-6749c1bf5f5d",
   "metadata": {},
   "outputs": [],
   "source": [
    "#file['Category'].value_counts() gives us the number of times we see each dtype in the \"category,\" column"
   ]
  },
  {
   "cell_type": "code",
   "execution_count": 34,
   "id": "b9ea839e-7b56-4992-95e6-079968f90b52",
   "metadata": {},
   "outputs": [
    {
     "data": {
      "text/plain": [
       "4      2\n",
       "1      2\n",
       "38     1\n",
       "6      1\n",
       "63     1\n",
       "10     1\n",
       "3      1\n",
       "5      1\n",
       "135    1\n",
       "Name: Exposed, 2050, dtype: int64"
      ]
     },
     "execution_count": 34,
     "metadata": {},
     "output_type": "execute_result"
    }
   ],
   "source": [
    "file['Exposed, 2050'].value_counts()"
   ]
  },
  {
   "cell_type": "code",
   "execution_count": null,
   "id": "9dce0ed4-fec4-428c-baa6-b522065f085d",
   "metadata": {},
   "outputs": [],
   "source": [
    "#file['Exposed, 2050']. value_counts gives us the number of times we see each dtype in the category, \"Exposed, 2050.\" "
   ]
  },
  {
   "cell_type": "code",
   "execution_count": 38,
   "id": "1bf65f20-7d7b-47a1-a048-064123670a78",
   "metadata": {},
   "outputs": [],
   "source": [
    "category_count = file['Category'].value_counts()"
   ]
  },
  {
   "cell_type": "code",
   "execution_count": 39,
   "id": "ab73cacd-4956-4413-8b0c-0f40c6215861",
   "metadata": {},
   "outputs": [
    {
     "data": {
      "text/plain": [
       "Power Plants                            1\n",
       "Animal Operations                       1\n",
       "Sewage Treatment                        1\n",
       "Hazardous Waste Treatment & Disposal    1\n",
       "Industrial Facilities (TRI)             1\n",
       "Landfills & Incinerators                1\n",
       "Cleanup Sites                           1\n",
       "Refineries                              1\n",
       "Ports & Terminals                       1\n",
       "Oil & Gas Wells                         1\n",
       "Total                                   1\n",
       "Name: Category, dtype: int64"
      ]
     },
     "execution_count": 39,
     "metadata": {},
     "output_type": "execute_result"
    }
   ],
   "source": [
    "category_count "
   ]
  },
  {
   "cell_type": "code",
   "execution_count": null,
   "id": "28696390-5715-4f8b-8f77-43a740e99beb",
   "metadata": {},
   "outputs": [],
   "source": [
    "#We have saved the value counts for the the column \"Category,\" and renamed it \"category_count,\" for more efficient use "
   ]
  },
  {
   "cell_type": "code",
   "execution_count": 40,
   "id": "17dfa675-008e-4ce3-bb42-e715b8eb2940",
   "metadata": {},
   "outputs": [],
   "source": [
    "category_count = category_count.reset_index()"
   ]
  },
  {
   "cell_type": "code",
   "execution_count": 41,
   "id": "fab41380-244c-4b09-8679-dbbd97e168ad",
   "metadata": {},
   "outputs": [
    {
     "data": {
      "text/html": [
       "<div>\n",
       "<style scoped>\n",
       "    .dataframe tbody tr th:only-of-type {\n",
       "        vertical-align: middle;\n",
       "    }\n",
       "\n",
       "    .dataframe tbody tr th {\n",
       "        vertical-align: top;\n",
       "    }\n",
       "\n",
       "    .dataframe thead th {\n",
       "        text-align: right;\n",
       "    }\n",
       "</style>\n",
       "<table border=\"1\" class=\"dataframe\">\n",
       "  <thead>\n",
       "    <tr style=\"text-align: right;\">\n",
       "      <th></th>\n",
       "      <th>level_0</th>\n",
       "      <th>index</th>\n",
       "      <th>Category</th>\n",
       "    </tr>\n",
       "  </thead>\n",
       "  <tbody>\n",
       "    <tr>\n",
       "      <th>0</th>\n",
       "      <td>0</td>\n",
       "      <td>Power Plants</td>\n",
       "      <td>1</td>\n",
       "    </tr>\n",
       "    <tr>\n",
       "      <th>1</th>\n",
       "      <td>1</td>\n",
       "      <td>Animal Operations</td>\n",
       "      <td>1</td>\n",
       "    </tr>\n",
       "    <tr>\n",
       "      <th>2</th>\n",
       "      <td>2</td>\n",
       "      <td>Sewage Treatment</td>\n",
       "      <td>1</td>\n",
       "    </tr>\n",
       "    <tr>\n",
       "      <th>3</th>\n",
       "      <td>3</td>\n",
       "      <td>Hazardous Waste Treatment &amp; Disposal</td>\n",
       "      <td>1</td>\n",
       "    </tr>\n",
       "    <tr>\n",
       "      <th>4</th>\n",
       "      <td>4</td>\n",
       "      <td>Industrial Facilities (TRI)</td>\n",
       "      <td>1</td>\n",
       "    </tr>\n",
       "    <tr>\n",
       "      <th>5</th>\n",
       "      <td>5</td>\n",
       "      <td>Landfills &amp; Incinerators</td>\n",
       "      <td>1</td>\n",
       "    </tr>\n",
       "    <tr>\n",
       "      <th>6</th>\n",
       "      <td>6</td>\n",
       "      <td>Cleanup Sites</td>\n",
       "      <td>1</td>\n",
       "    </tr>\n",
       "    <tr>\n",
       "      <th>7</th>\n",
       "      <td>7</td>\n",
       "      <td>Refineries</td>\n",
       "      <td>1</td>\n",
       "    </tr>\n",
       "    <tr>\n",
       "      <th>8</th>\n",
       "      <td>8</td>\n",
       "      <td>Ports &amp; Terminals</td>\n",
       "      <td>1</td>\n",
       "    </tr>\n",
       "    <tr>\n",
       "      <th>9</th>\n",
       "      <td>9</td>\n",
       "      <td>Oil &amp; Gas Wells</td>\n",
       "      <td>1</td>\n",
       "    </tr>\n",
       "    <tr>\n",
       "      <th>10</th>\n",
       "      <td>10</td>\n",
       "      <td>Total</td>\n",
       "      <td>1</td>\n",
       "    </tr>\n",
       "  </tbody>\n",
       "</table>\n",
       "</div>"
      ],
      "text/plain": [
       "    level_0                                 index  Category\n",
       "0         0                          Power Plants         1\n",
       "1         1                     Animal Operations         1\n",
       "2         2                      Sewage Treatment         1\n",
       "3         3  Hazardous Waste Treatment & Disposal         1\n",
       "4         4           Industrial Facilities (TRI)         1\n",
       "5         5              Landfills & Incinerators         1\n",
       "6         6                         Cleanup Sites         1\n",
       "7         7                            Refineries         1\n",
       "8         8                     Ports & Terminals         1\n",
       "9         9                       Oil & Gas Wells         1\n",
       "10       10                                 Total         1"
      ]
     },
     "execution_count": 41,
     "metadata": {},
     "output_type": "execute_result"
    }
   ],
   "source": [
    "category_count.reset_index()"
   ]
  },
  {
   "cell_type": "code",
   "execution_count": null,
   "id": "64ce177c-2b0f-4198-8641-2739413b5345",
   "metadata": {},
   "outputs": [],
   "source": [
    "#.reset.index( converts the series into a dataframe"
   ]
  },
  {
   "cell_type": "code",
   "execution_count": 43,
   "id": "8e6b3a5f-a3b8-4aef-9630-5f5c8bba0244",
   "metadata": {},
   "outputs": [
    {
     "data": {
      "text/plain": [
       "<AxesSubplot:>"
      ]
     },
     "execution_count": 43,
     "metadata": {},
     "output_type": "execute_result"
    },
    {
     "data": {
      "image/png": "[encoded data removed]",
      "text/plain": [
       "<Figure size 432x288 with 1 Axes>"
      ]
     },
     "metadata": {
      "needs_background": "light"
     },
     "output_type": "display_data"
    }
   ],
   "source": [
    "category_count.plot()"
   ]
  },
  {
   "cell_type": "code",
   "execution_count": null,
   "id": "f25c79f9-92d7-4ffb-a8b2-2719ef044815",
   "metadata": {},
   "outputs": [],
   "source": [
    "#category_count.plot allows us to plot the information on the value counts of the \"category,\" column "
   ]
  },
  {
   "cell_type": "code",
   "execution_count": 59,
   "id": "f44c1216-c4c3-4334-85e9-a1f860ad686a",
   "metadata": {},
   "outputs": [
    {
     "data": {
      "text/html": [
       "<div>\n",
       "<style scoped>\n",
       "    .dataframe tbody tr th:only-of-type {\n",
       "        vertical-align: middle;\n",
       "    }\n",
       "\n",
       "    .dataframe tbody tr th {\n",
       "        vertical-align: top;\n",
       "    }\n",
       "\n",
       "    .dataframe thead th {\n",
       "        text-align: right;\n",
       "    }\n",
       "</style>\n",
       "<table border=\"1\" class=\"dataframe\">\n",
       "  <thead>\n",
       "    <tr style=\"text-align: right;\">\n",
       "      <th></th>\n",
       "      <th>Category</th>\n",
       "      <th># Facilities in Low-lying Counties</th>\n",
       "      <th>Exposed, 2050</th>\n",
       "      <th>Exposed, 2100</th>\n",
       "      <th>geometry</th>\n",
       "    </tr>\n",
       "  </thead>\n",
       "  <tbody>\n",
       "    <tr>\n",
       "      <th>7</th>\n",
       "      <td>Refineries</td>\n",
       "      <td>13</td>\n",
       "      <td>1</td>\n",
       "      <td>3</td>\n",
       "      <td>None</td>\n",
       "    </tr>\n",
       "  </tbody>\n",
       "</table>\n",
       "</div>"
      ],
      "text/plain": [
       "     Category # Facilities in Low-lying Counties Exposed, 2050 Exposed, 2100  \\\n",
       "7  Refineries                                 13             1             3   \n",
       "\n",
       "  geometry  \n",
       "7     None  "
      ]
     },
     "execution_count": 59,
     "metadata": {},
     "output_type": "execute_result"
    }
   ],
   "source": [
    "file.query(\"Category == 'Refineries'\")"
   ]
  },
  {
   "cell_type": "code",
   "execution_count": 65,
   "id": "b365d40f-c502-4670-a4ed-49307e2b398b",
   "metadata": {},
   "outputs": [],
   "source": [
    "#file.query(\"Category == 'Refineries'\" allows us to filter for information under \"Category,\" containing the word \"Refineries,\" "
   ]
  },
  {
   "cell_type": "code",
   "execution_count": 71,
   "id": "1af0f2c7-c1c8-4728-aea7-33e64ae59b41",
   "metadata": {},
   "outputs": [
    {
     "data": {
      "text/plain": [
       "79        1\n",
       "42        1\n",
       "397       1\n",
       "110       1\n",
       "3668      1\n",
       "293       1\n",
       "68        1\n",
       "13        1\n",
       "66        1\n",
       "5808      1\n",
       "10,544    1\n",
       "Name: # Facilities in Low-lying Counties, dtype: int64"
      ]
     },
     "execution_count": 71,
     "metadata": {},
     "output_type": "execute_result"
    }
   ],
   "source": [
    "file['# Facilities in Low-lying Counties'].value_counts()"
   ]
  },
  {
   "cell_type": "code",
   "execution_count": 73,
   "id": "a050c2f4-7fa5-444b-a4fe-a9960782e5a1",
   "metadata": {},
   "outputs": [],
   "source": [
    "facility_count = file['# Facilities in Low-lying Counties'].value_counts()"
   ]
  },
  {
   "cell_type": "code",
   "execution_count": 78,
   "id": "7b08b491-7b5a-46ff-acc9-989b5f644cf4",
   "metadata": {},
   "outputs": [],
   "source": [
    "facility_count = category_count.reset_index()"
   ]
  },
  {
   "cell_type": "code",
   "execution_count": 81,
   "id": "394905bc-1984-4822-8ca2-162dcc396cf5",
   "metadata": {},
   "outputs": [
    {
     "data": {
      "text/plain": [
       "<AxesSubplot:>"
      ]
     },
     "execution_count": 81,
     "metadata": {},
     "output_type": "execute_result"
    },
    {
     "data": {
      "image/png": "[encoded data removed]",
      "text/plain": [
       "<Figure size 432x288 with 1 Axes>"
      ]
     },
     "metadata": {
      "needs_background": "light"
     },
     "output_type": "display_data"
    }
   ],
   "source": [
    "facility_count.plot()"
   ]
  },
  {
   "cell_type": "code",
   "execution_count": 87,
   "id": "596bb189-47b8-4201-afdb-04c0e04b4cc5",
   "metadata": {},
   "outputs": [],
   "source": [
    "desired_columns = ['# Facilities in Low-lying Counties','Exposed, 2050']"
   ]
  },
  {
   "cell_type": "code",
   "execution_count": 88,
   "id": "b38301c8-d46d-425f-b0bc-e2111970f02e",
   "metadata": {},
   "outputs": [
    {
     "data": {
      "text/plain": [
       "['# Facilities in Low-lying Counties', 'Exposed, 2050']"
      ]
     },
     "execution_count": 88,
     "metadata": {},
     "output_type": "execute_result"
    }
   ],
   "source": [
    "desired_columns"
   ]
  },
  {
   "cell_type": "code",
   "execution_count": 89,
   "id": "72989fb0-12ec-4fe8-b240-7b671778b331",
   "metadata": {},
   "outputs": [
    {
     "data": {
      "text/html": [
       "<div>\n",
       "<style scoped>\n",
       "    .dataframe tbody tr th:only-of-type {\n",
       "        vertical-align: middle;\n",
       "    }\n",
       "\n",
       "    .dataframe tbody tr th {\n",
       "        vertical-align: top;\n",
       "    }\n",
       "\n",
       "    .dataframe thead th {\n",
       "        text-align: right;\n",
       "    }\n",
       "</style>\n",
       "<table border=\"1\" class=\"dataframe\">\n",
       "  <thead>\n",
       "    <tr style=\"text-align: right;\">\n",
       "      <th></th>\n",
       "      <th># Facilities in Low-lying Counties</th>\n",
       "      <th>Exposed, 2050</th>\n",
       "    </tr>\n",
       "  </thead>\n",
       "  <tbody>\n",
       "    <tr>\n",
       "      <th>5</th>\n",
       "      <td>293</td>\n",
       "      <td>10</td>\n",
       "    </tr>\n",
       "    <tr>\n",
       "      <th>6</th>\n",
       "      <td>68</td>\n",
       "      <td>3</td>\n",
       "    </tr>\n",
       "    <tr>\n",
       "      <th>4</th>\n",
       "      <td>3668</td>\n",
       "      <td>63</td>\n",
       "    </tr>\n",
       "    <tr>\n",
       "      <th>7</th>\n",
       "      <td>13</td>\n",
       "      <td>1</td>\n",
       "    </tr>\n",
       "    <tr>\n",
       "      <th>1</th>\n",
       "      <td>42</td>\n",
       "      <td>1</td>\n",
       "    </tr>\n",
       "  </tbody>\n",
       "</table>\n",
       "</div>"
      ],
      "text/plain": [
       "  # Facilities in Low-lying Counties Exposed, 2050\n",
       "5                                293            10\n",
       "6                                 68             3\n",
       "4                               3668            63\n",
       "7                                 13             1\n",
       "1                                 42             1"
      ]
     },
     "execution_count": 89,
     "metadata": {},
     "output_type": "execute_result"
    }
   ],
   "source": [
    "file[desired_columns].sample(5)"
   ]
  },
  {
   "cell_type": "code",
   "execution_count": 97,
   "id": "22487c9c-687e-4179-b77e-4df36f86d0e9",
   "metadata": {},
   "outputs": [],
   "source": [
    "facilities_exposed = file[desired_columns].sample(5)"
   ]
  },
  {
   "cell_type": "code",
   "execution_count": null,
   "id": "472ca9ca-b1e3-4404-9f09-68f7532c46f1",
   "metadata": {},
   "outputs": [],
   "source": [
    "facilities_exposed.plot()"
   ]
  },
  {
   "cell_type": "code",
   "execution_count": null,
   "id": "5c444177-1665-451c-9839-e138cc724bcf",
   "metadata": {},
   "outputs": [],
   "source": []
  },
  {
   "cell_type": "code",
   "execution_count": null,
   "id": "a8fbeff7-ceea-4627-ae37-feefc8abd6c9",
   "metadata": {},
   "outputs": [],
   "source": []
  },
  {
   "cell_type": "code",
   "execution_count": null,
   "id": "7cdfa33f-213d-491d-9ba3-afaf2a990e49",
   "metadata": {},
   "outputs": [],
   "source": []
  },
  {
   "cell_type": "code",
   "execution_count": null,
   "id": "d2b70e8c-2a8f-4180-8ed0-0eed7e2ab190",
   "metadata": {},
   "outputs": [],
   "source": []
  }
 ],
 "metadata": {
  "kernelspec": {
   "display_name": "Python 3 (ipykernel)",
   "language": "python",
   "name": "python3"
  },
  "language_info": {
   "codemirror_mode": {
    "name": "ipython",
    "version": 3
   },
   "file_extension": ".py",
   "mimetype": "text/x-python",
   "name": "python",
   "nbconvert_exporter": "python",
   "pygments_lexer": "ipython3",
   "version": "3.9.6"
  }
 },
 "nbformat": 4,
 "nbformat_minor": 5
}
