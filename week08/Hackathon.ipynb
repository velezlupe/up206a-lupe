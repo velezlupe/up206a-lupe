{
 "cells": [
  {
   "cell_type": "markdown",
   "metadata": {},
   "source": [
    "# Hackathon\n",
    "\n",
    "Scenario:\n",
    "\n",
    "<img src=\"images/justice.png\">\n",
    "\n",
    "You are a group of interns working for \"Justice for All,\" a non-profit organization in Los Angeles. Ellen, the director, has called upon you, the resident spatial data scientists, to produce a report based on a .geojson file that your manager Kazu has compiled. Kazu downloaded the data from Social Explorer, cleaned it up, and merged it with a geojson file. Kazu's wife went into labor last night (they are expecting a baby girl!) so it is now up to you to continue where Kazu left off. Ellen has a board meeting in an hour and wants you to produce a report for her in a Google Doc with the following material:\n",
    "\n",
    "Part 1:\n",
    "- A series of preliminary stats/charts of the data\n",
    "- Maps: \n",
    "  - Make sure to zoom in to Los Angeles (crop Catalina Island out)\n",
    "  - A series of choropleth maps\n",
    "  - A series of side-by-side choropleth maps that show meaningful differences (make sure to make the legends, i.e. bin breaks the same on both maps)\n",
    "  - Produce several maps that show two data layers: One basemap choropleth, and another overlay that shows the top values of another variable with red boundaries\n",
    "  \n",
    "Part 2:\n",
    "- Import Council District boundaries from the LA Data Portal\n",
    "- Create a demographic profile for each Council District\n",
    "   - hint: Do a spatial join to get census tracts that intersect with each council district\n",
    "   - show only the census tracts for each council district\n",
    "   - use a loop and/or function to minimize your code\n"
   ]
  },
  {
   "cell_type": "markdown",
   "metadata": {},
   "source": [
    "## Import the geojson file (code cell provided)"
   ]
  },
  {
   "cell_type": "code",
   "execution_count": null,
   "metadata": {},
   "outputs": [],
   "source": [
    "import geopandas as gpd\n",
    "import pandas as pd\n",
    "import matplotlib.pyplot as plt"
   ]
  },
  {
   "cell_type": "code",
   "execution_count": null,
   "metadata": {},
   "outputs": [],
   "source": [
    "gdf = gpd.read_file('data/acs2015_2019.geojson')"
   ]
  },
  {
   "cell_type": "markdown",
   "metadata": {},
   "source": [
    "## Conduct a thorough exploration of the data, and answer the following questions:\n",
    "   - what fields are included?\n",
    "   - how many records and columns are there?\n",
    "   - what does the data look like?\n",
    "   - are the data types correct?"
   ]
  },
  {
   "cell_type": "code",
   "execution_count": null,
   "metadata": {},
   "outputs": [],
   "source": []
  },
  {
   "cell_type": "code",
   "execution_count": null,
   "metadata": {},
   "outputs": [],
   "source": []
  },
  {
   "cell_type": "code",
   "execution_count": null,
   "metadata": {},
   "outputs": [],
   "source": []
  },
  {
   "cell_type": "code",
   "execution_count": null,
   "metadata": {},
   "outputs": [],
   "source": []
  },
  {
   "cell_type": "markdown",
   "metadata": {},
   "source": [
    "## Conduct preliminary statistical analysis on select fields of interest\n",
    "   - what are the means/medians of your variables of interest?\n",
    "   - what are the top 10 values of each?"
   ]
  },
  {
   "cell_type": "code",
   "execution_count": null,
   "metadata": {},
   "outputs": [],
   "source": []
  },
  {
   "cell_type": "code",
   "execution_count": null,
   "metadata": {},
   "outputs": [],
   "source": []
  },
  {
   "cell_type": "code",
   "execution_count": null,
   "metadata": {},
   "outputs": [],
   "source": []
  },
  {
   "cell_type": "markdown",
   "metadata": {},
   "source": [
    "## Create meaningful histograms\n",
    "\n",
    "- use `plt.hist`\n",
    "   \n",
    "Challenge:\n",
    "- add a vertical line for the mean and median\n",
    "- change the size of the plot\n",
    "- change the colors of the bins"
   ]
  },
  {
   "cell_type": "code",
   "execution_count": null,
   "metadata": {},
   "outputs": [],
   "source": []
  },
  {
   "cell_type": "code",
   "execution_count": null,
   "metadata": {},
   "outputs": [],
   "source": []
  },
  {
   "cell_type": "code",
   "execution_count": null,
   "metadata": {},
   "outputs": [],
   "source": []
  },
  {
   "cell_type": "markdown",
   "metadata": {},
   "source": [
    "# Maps"
   ]
  },
  {
   "cell_type": "markdown",
   "metadata": {},
   "source": [
    "## Create a single choropleth map with a variable of your choice \n",
    "\n",
    "- Make it big\n",
    "- Zoom in (don't show Catalina Island)"
   ]
  },
  {
   "cell_type": "code",
   "execution_count": null,
   "metadata": {},
   "outputs": [],
   "source": []
  },
  {
   "cell_type": "code",
   "execution_count": null,
   "metadata": {},
   "outputs": [],
   "source": []
  },
  {
   "cell_type": "markdown",
   "metadata": {},
   "source": [
    "## Create a side-by-side map\n",
    "\n",
    "- Zoom in (sorry Catalina)\n",
    "- Make the breakdowns the same between both maps\n",
    "\n",
    "Example arguments to make custom breakdowns\n",
    "```python\n",
    "gdf.plot(ax=ax[0],\n",
    "         column='% Total Population: White Alone',\n",
    "         legend=True,\n",
    "         scheme='user_defined', \n",
    "         classification_kwds={'bins':[20,40,60,80,100]},\n",
    "         cmap='Greens'\n",
    "        )\n",
    "```"
   ]
  },
  {
   "cell_type": "code",
   "execution_count": null,
   "metadata": {},
   "outputs": [],
   "source": []
  },
  {
   "cell_type": "code",
   "execution_count": null,
   "metadata": {},
   "outputs": [],
   "source": []
  },
  {
   "cell_type": "markdown",
   "metadata": {},
   "source": [
    "## Create a single map with two layers\n",
    "\n",
    "- Make one variable the \"base\" choropleth map\n",
    "- Overlay another variable, only showing the boundary outlines that match a particular query\n",
    "- Make sure the map tells a story\n",
    "\n",
    "Sample arguments to make your second overlay:\n",
    "\n",
    "```python\n",
    "    alpha=1,\n",
    "    linewidth=1,\n",
    "    hatch=\"////\",\n",
    "    facecolor=\"none\", \n",
    "    color='red'\n",
    "```"
   ]
  },
  {
   "cell_type": "code",
   "execution_count": null,
   "metadata": {},
   "outputs": [],
   "source": []
  },
  {
   "cell_type": "code",
   "execution_count": null,
   "metadata": {},
   "outputs": [],
   "source": []
  },
  {
   "cell_type": "markdown",
   "metadata": {},
   "source": [
    "## Part 2: Council District Maps\n",
    "\n",
    "- Download [council districts geojson file](https://data.lacity.org/City-Infrastructure-Service-Requests/Council-Districts/5v3h-vptv) from LA Open Data Portal\n",
    "- Choose a select number of indicators and create choropleth maps for each council district\n",
    "- Conduct a spatial join to select only the census tracts that intersect with the council district. Example:\n",
    "\n",
    "```python\n",
    "cd1_tracts = gpd.sjoin(gdf,gdf_cd[gdf_cd['name']=='1'])\n",
    "```\n",
    "- Create a function and a loop to minimize your code"
   ]
  },
  {
   "cell_type": "code",
   "execution_count": null,
   "metadata": {},
   "outputs": [],
   "source": [
    "# Council Districts\n",
    "gdf_cd = gpd.read_file('data/Council Districts.geojson')"
   ]
  },
  {
   "cell_type": "code",
   "execution_count": null,
   "metadata": {},
   "outputs": [],
   "source": []
  },
  {
   "cell_type": "code",
   "execution_count": null,
   "metadata": {},
   "outputs": [],
   "source": []
  },
  {
   "cell_type": "code",
   "execution_count": null,
   "metadata": {},
   "outputs": [],
   "source": []
  },
  {
   "cell_type": "code",
   "execution_count": null,
   "metadata": {},
   "outputs": [],
   "source": []
  },
  {
   "cell_type": "code",
   "execution_count": null,
   "metadata": {},
   "outputs": [],
   "source": []
  },
  {
   "cell_type": "code",
   "execution_count": null,
   "metadata": {},
   "outputs": [],
   "source": []
  }
 ],
 "metadata": {
  "kernelspec": {
   "display_name": "Python 3 (ipykernel)",
   "language": "python",
   "name": "python3"
  },
  "language_info": {
   "codemirror_mode": {
    "name": "ipython",
    "version": 3
   },
   "file_extension": ".py",
   "mimetype": "text/x-python",
   "name": "python",
   "nbconvert_exporter": "python",
   "pygments_lexer": "ipython3",
   "version": "3.9.6"
  },
  "toc": {
   "base_numbering": 1,
   "nav_menu": {},
   "number_sections": true,
   "sideBar": true,
   "skip_h1_title": false,
   "title_cell": "Table of Contents",
   "title_sidebar": "Contents",
   "toc_cell": false,
   "toc_position": {},
   "toc_section_display": true,
   "toc_window_display": true
  }
 },
 "nbformat": 4,
 "nbformat_minor": 4
}
